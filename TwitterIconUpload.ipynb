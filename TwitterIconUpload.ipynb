{
  "nbformat": 4,
  "nbformat_minor": 0,
  "metadata": {
    "colab": {
      "provenance": [],
      "authorship_tag": "ABX9TyNSmFcSeMupPNWNHEWl75mD",
      "include_colab_link": true
    },
    "kernelspec": {
      "name": "python3",
      "display_name": "Python 3"
    },
    "language_info": {
      "name": "python"
    },
    "accelerator": "GPU",
    "gpuClass": "standard"
  },
  "cells": [
    {
      "cell_type": "markdown",
      "metadata": {
        "id": "view-in-github",
        "colab_type": "text"
      },
      "source": [
        "<a href=\"https://colab.research.google.com/github/proje9t/TwitterIconUpload/blob/main/TwitterIconUpload.ipynb\" target=\"_parent\"><img src=\"https://colab.research.google.com/assets/colab-badge.svg\" alt=\"Open In Colab\"/></a>"
      ]
    },
    {
      "cell_type": "markdown",
      "source": [],
      "metadata": {
        "id": "eNCuit1dmcxX"
      }
    },
    {
      "cell_type": "markdown",
      "source": [
        "# **TwitterのアイコンをAPI経由でアップロード**\n",
        "\n",
        "# 連絡先 Twitter:[ @project34](https://twitter.com/project34)"
      ],
      "metadata": {
        "id": "9ocFIzIXmJp1"
      }
    },
    {
      "cell_type": "code",
      "source": [
        "!pip install tweepy"
      ],
      "metadata": {
        "id": "ChoAJC1jlGHI"
      },
      "execution_count": null,
      "outputs": []
    },
    {
      "cell_type": "code",
      "source": [
        "import tweepy\n",
        "from google.colab import files\n",
        "\n",
        "consumer_key = \"3rJOl1ODzm9yZy63FACdg\"\n",
        "consumer_secret = \"5jPoQ5kQvMJFDYRNE8bQ4rHuds4xJqhvgNJM4awaE8\"\n",
        "\n",
        "# OAuth認証\n",
        "auth = tweepy.OAuthHandler(consumer_key, consumer_secret)\n",
        "\n",
        "# アクセストークンを取得\n",
        "redirect_url = auth.get_authorization_url()\n",
        "\n",
        "print('以下のURLをブラウザで開いて、Twitterにアクセスし、アプリの認証を行ってください。\\n')\n",
        "print(redirect_url)\n",
        "\n",
        "verifier = input('ブラウザで表示されたPINコードを入力してください：')\n",
        "\n",
        "auth.get_access_token(verifier)\n",
        "\n",
        "# 認証済みAPIオブジェクトを取得する\n",
        "api = tweepy.API(auth)\n",
        "\n",
        "# ファイル選択ダイアログを表示して画像を選択する\n",
        "uploaded = files.upload()\n",
        "\n",
        "# 選択された画像ファイルをアイコンに設定する\n",
        "for name, data in uploaded.items():\n",
        "    filename = name\n",
        "    with open(filename, 'wb') as f:\n",
        "        f.write(data)\n",
        "    api.update_profile_image(filename)\n",
        "    print('アイコンを更新しました')\n"
      ],
      "metadata": {
        "id": "Vi9yAaSzlAgZ"
      },
      "execution_count": null,
      "outputs": []
    }
  ]
}